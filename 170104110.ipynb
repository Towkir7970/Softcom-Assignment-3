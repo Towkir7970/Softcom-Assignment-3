{
  "nbformat": 4,
  "nbformat_minor": 0,
  "metadata": {
    "colab": {
      "name": "170104110.ipynb",
      "provenance": [],
      "collapsed_sections": []
    },
    "kernelspec": {
      "name": "python3",
      "display_name": "Python 3"
    },
    "language_info": {
      "name": "python"
    }
  },
  "cells": [
    {
      "cell_type": "code",
      "metadata": {
        "id": "kOc2m6Rma2xw",
        "colab": {
          "base_uri": "https://localhost:8080/"
        },
        "outputId": "8fcef85c-e398-4309-a4b4-dbeb15fdee08"
      },
      "source": [
        "from google.colab import drive\n",
        "drive.mount('/content/drive')"
      ],
      "execution_count": 1,
      "outputs": [
        {
          "output_type": "stream",
          "name": "stdout",
          "text": [
            "Mounted at /content/drive\n"
          ]
        }
      ]
    },
    {
      "cell_type": "code",
      "metadata": {
        "id": "SMW49hMSatem"
      },
      "source": [
        "import pandas as pd\n",
        "import numpy as np \n",
        "import pandas as pd \n",
        "\n",
        "from sklearn.feature_extraction.text import CountVectorizer\n",
        "from keras.preprocessing.text import Tokenizer\n",
        "from keras.preprocessing.sequence import pad_sequences\n",
        "from keras.models import Sequential\n",
        "from keras.layers import Dense, Embedding,RNN, SpatialDropout1D\n",
        "from sklearn.model_selection import train_test_split\n",
        "from keras.utils.np_utils import to_categorical\n",
        "import re"
      ],
      "execution_count": 2,
      "outputs": []
    },
    {
      "cell_type": "code",
      "metadata": {
        "id": "EaHsxNCRbNp3",
        "colab": {
          "base_uri": "https://localhost:8080/",
          "height": 424
        },
        "outputId": "33e21250-0a44-4f1c-8db4-3293c6d55e2d"
      },
      "source": [
        "dataset = pd.read_csv('/content/drive/MyDrive/Softcom/Assignment 3/Dataset 3.csv',encoding=\"ISO-8859-1\")\n",
        "dataset"
      ],
      "execution_count": 4,
      "outputs": [
        {
          "output_type": "execute_result",
          "data": {
            "text/html": [
              "<div>\n",
              "<style scoped>\n",
              "    .dataframe tbody tr th:only-of-type {\n",
              "        vertical-align: middle;\n",
              "    }\n",
              "\n",
              "    .dataframe tbody tr th {\n",
              "        vertical-align: top;\n",
              "    }\n",
              "\n",
              "    .dataframe thead th {\n",
              "        text-align: right;\n",
              "    }\n",
              "</style>\n",
              "<table border=\"1\" class=\"dataframe\">\n",
              "  <thead>\n",
              "    <tr style=\"text-align: right;\">\n",
              "      <th></th>\n",
              "      <th>tweets</th>\n",
              "      <th>sentiment</th>\n",
              "    </tr>\n",
              "  </thead>\n",
              "  <tbody>\n",
              "    <tr>\n",
              "      <th>0</th>\n",
              "      <td>just had a real good moment. i missssssssss hi...</td>\n",
              "      <td>0</td>\n",
              "    </tr>\n",
              "    <tr>\n",
              "      <th>1</th>\n",
              "      <td>is reading manga  http://plurk.com/p/mzp1e</td>\n",
              "      <td>0</td>\n",
              "    </tr>\n",
              "    <tr>\n",
              "      <th>2</th>\n",
              "      <td>@comeagainjen http://twitpic.com/2y2lx - http:...</td>\n",
              "      <td>0</td>\n",
              "    </tr>\n",
              "    <tr>\n",
              "      <th>3</th>\n",
              "      <td>@lapcat Need to send 'em to my accountant tomo...</td>\n",
              "      <td>0</td>\n",
              "    </tr>\n",
              "    <tr>\n",
              "      <th>4</th>\n",
              "      <td>ADD ME ON MYSPACE!!!  myspace.com/LookThunder</td>\n",
              "      <td>0</td>\n",
              "    </tr>\n",
              "    <tr>\n",
              "      <th>...</th>\n",
              "      <td>...</td>\n",
              "      <td>...</td>\n",
              "    </tr>\n",
              "    <tr>\n",
              "      <th>10309</th>\n",
              "      <td>No Depression by G Herbo is my mood from now o...</td>\n",
              "      <td>1</td>\n",
              "    </tr>\n",
              "    <tr>\n",
              "      <th>10310</th>\n",
              "      <td>What do you do when depression succumbs the br...</td>\n",
              "      <td>1</td>\n",
              "    </tr>\n",
              "    <tr>\n",
              "      <th>10311</th>\n",
              "      <td>Ketamine Nasal Spray Shows Promise Against Dep...</td>\n",
              "      <td>1</td>\n",
              "    </tr>\n",
              "    <tr>\n",
              "      <th>10312</th>\n",
              "      <td>dont mistake a bad day with depression! everyo...</td>\n",
              "      <td>1</td>\n",
              "    </tr>\n",
              "    <tr>\n",
              "      <th>10313</th>\n",
              "      <td>0</td>\n",
              "      <td>1</td>\n",
              "    </tr>\n",
              "  </tbody>\n",
              "</table>\n",
              "<p>10314 rows × 2 columns</p>\n",
              "</div>"
            ],
            "text/plain": [
              "                                                  tweets  sentiment\n",
              "0      just had a real good moment. i missssssssss hi...          0\n",
              "1             is reading manga  http://plurk.com/p/mzp1e          0\n",
              "2      @comeagainjen http://twitpic.com/2y2lx - http:...          0\n",
              "3      @lapcat Need to send 'em to my accountant tomo...          0\n",
              "4          ADD ME ON MYSPACE!!!  myspace.com/LookThunder          0\n",
              "...                                                  ...        ...\n",
              "10309  No Depression by G Herbo is my mood from now o...          1\n",
              "10310  What do you do when depression succumbs the br...          1\n",
              "10311  Ketamine Nasal Spray Shows Promise Against Dep...          1\n",
              "10312  dont mistake a bad day with depression! everyo...          1\n",
              "10313                                                  0          1\n",
              "\n",
              "[10314 rows x 2 columns]"
            ]
          },
          "metadata": {},
          "execution_count": 4
        }
      ]
    },
    {
      "cell_type": "code",
      "metadata": {
        "id": "UKU7oVDLebGI"
      },
      "source": [
        "dataset['tweets'] = dataset['tweets'].apply(lambda x: x.lower())"
      ],
      "execution_count": 6,
      "outputs": []
    },
    {
      "cell_type": "code",
      "metadata": {
        "colab": {
          "base_uri": "https://localhost:8080/",
          "height": 424
        },
        "id": "g00Q5ewMfzyO",
        "outputId": "41e600cc-3320-49e5-ece7-bff04141cfed"
      },
      "source": [
        "dataset"
      ],
      "execution_count": 12,
      "outputs": [
        {
          "output_type": "execute_result",
          "data": {
            "text/html": [
              "<div>\n",
              "<style scoped>\n",
              "    .dataframe tbody tr th:only-of-type {\n",
              "        vertical-align: middle;\n",
              "    }\n",
              "\n",
              "    .dataframe tbody tr th {\n",
              "        vertical-align: top;\n",
              "    }\n",
              "\n",
              "    .dataframe thead th {\n",
              "        text-align: right;\n",
              "    }\n",
              "</style>\n",
              "<table border=\"1\" class=\"dataframe\">\n",
              "  <thead>\n",
              "    <tr style=\"text-align: right;\">\n",
              "      <th></th>\n",
              "      <th>tweets</th>\n",
              "      <th>sentiment</th>\n",
              "    </tr>\n",
              "  </thead>\n",
              "  <tbody>\n",
              "    <tr>\n",
              "      <th>0</th>\n",
              "      <td>just had a real good moment i missssssssss him...</td>\n",
              "      <td>0</td>\n",
              "    </tr>\n",
              "    <tr>\n",
              "      <th>1</th>\n",
              "      <td>is reading manga  httpplurkcompmzp1e</td>\n",
              "      <td>0</td>\n",
              "    </tr>\n",
              "    <tr>\n",
              "      <th>2</th>\n",
              "      <td>comeagainjen httptwitpiccom2y2lx  httpwwwyoutu...</td>\n",
              "      <td>0</td>\n",
              "    </tr>\n",
              "    <tr>\n",
              "      <th>3</th>\n",
              "      <td>lapcat need to send em to my accountant tomorr...</td>\n",
              "      <td>0</td>\n",
              "    </tr>\n",
              "    <tr>\n",
              "      <th>4</th>\n",
              "      <td>add me on myspace  myspacecomlookthunder</td>\n",
              "      <td>0</td>\n",
              "    </tr>\n",
              "    <tr>\n",
              "      <th>...</th>\n",
              "      <td>...</td>\n",
              "      <td>...</td>\n",
              "    </tr>\n",
              "    <tr>\n",
              "      <th>10309</th>\n",
              "      <td>no depression by g herbo is my mood from now o...</td>\n",
              "      <td>1</td>\n",
              "    </tr>\n",
              "    <tr>\n",
              "      <th>10310</th>\n",
              "      <td>what do you do when depression succumbs the br...</td>\n",
              "      <td>1</td>\n",
              "    </tr>\n",
              "    <tr>\n",
              "      <th>10311</th>\n",
              "      <td>ketamine nasal spray shows promise against dep...</td>\n",
              "      <td>1</td>\n",
              "    </tr>\n",
              "    <tr>\n",
              "      <th>10312</th>\n",
              "      <td>dont mistake a bad day with depression everyon...</td>\n",
              "      <td>1</td>\n",
              "    </tr>\n",
              "    <tr>\n",
              "      <th>10313</th>\n",
              "      <td>0</td>\n",
              "      <td>1</td>\n",
              "    </tr>\n",
              "  </tbody>\n",
              "</table>\n",
              "<p>10314 rows × 2 columns</p>\n",
              "</div>"
            ],
            "text/plain": [
              "                                                  tweets  sentiment\n",
              "0      just had a real good moment i missssssssss him...          0\n",
              "1                   is reading manga  httpplurkcompmzp1e          0\n",
              "2      comeagainjen httptwitpiccom2y2lx  httpwwwyoutu...          0\n",
              "3      lapcat need to send em to my accountant tomorr...          0\n",
              "4               add me on myspace  myspacecomlookthunder          0\n",
              "...                                                  ...        ...\n",
              "10309  no depression by g herbo is my mood from now o...          1\n",
              "10310  what do you do when depression succumbs the br...          1\n",
              "10311  ketamine nasal spray shows promise against dep...          1\n",
              "10312  dont mistake a bad day with depression everyon...          1\n",
              "10313                                                  0          1\n",
              "\n",
              "[10314 rows x 2 columns]"
            ]
          },
          "metadata": {},
          "execution_count": 12
        }
      ]
    },
    {
      "cell_type": "code",
      "metadata": {
        "id": "TH6LEjULgLWW"
      },
      "source": [
        "dataset['tweets'] = dataset['tweets'].apply((lambda x: re.sub('[^a-zA-z0-9\\s]','',x)))"
      ],
      "execution_count": 7,
      "outputs": []
    },
    {
      "cell_type": "code",
      "metadata": {
        "colab": {
          "base_uri": "https://localhost:8080/",
          "height": 424
        },
        "id": "1WWYm7segiKf",
        "outputId": "33d5c274-ae5b-4278-d117-193ea9d6f3cc"
      },
      "source": [
        "dataset"
      ],
      "execution_count": 8,
      "outputs": [
        {
          "output_type": "execute_result",
          "data": {
            "text/html": [
              "<div>\n",
              "<style scoped>\n",
              "    .dataframe tbody tr th:only-of-type {\n",
              "        vertical-align: middle;\n",
              "    }\n",
              "\n",
              "    .dataframe tbody tr th {\n",
              "        vertical-align: top;\n",
              "    }\n",
              "\n",
              "    .dataframe thead th {\n",
              "        text-align: right;\n",
              "    }\n",
              "</style>\n",
              "<table border=\"1\" class=\"dataframe\">\n",
              "  <thead>\n",
              "    <tr style=\"text-align: right;\">\n",
              "      <th></th>\n",
              "      <th>tweets</th>\n",
              "      <th>sentiment</th>\n",
              "    </tr>\n",
              "  </thead>\n",
              "  <tbody>\n",
              "    <tr>\n",
              "      <th>0</th>\n",
              "      <td>just had a real good moment i missssssssss him...</td>\n",
              "      <td>0</td>\n",
              "    </tr>\n",
              "    <tr>\n",
              "      <th>1</th>\n",
              "      <td>is reading manga  httpplurkcompmzp1e</td>\n",
              "      <td>0</td>\n",
              "    </tr>\n",
              "    <tr>\n",
              "      <th>2</th>\n",
              "      <td>comeagainjen httptwitpiccom2y2lx  httpwwwyoutu...</td>\n",
              "      <td>0</td>\n",
              "    </tr>\n",
              "    <tr>\n",
              "      <th>3</th>\n",
              "      <td>lapcat need to send em to my accountant tomorr...</td>\n",
              "      <td>0</td>\n",
              "    </tr>\n",
              "    <tr>\n",
              "      <th>4</th>\n",
              "      <td>add me on myspace  myspacecomlookthunder</td>\n",
              "      <td>0</td>\n",
              "    </tr>\n",
              "    <tr>\n",
              "      <th>...</th>\n",
              "      <td>...</td>\n",
              "      <td>...</td>\n",
              "    </tr>\n",
              "    <tr>\n",
              "      <th>10309</th>\n",
              "      <td>no depression by g herbo is my mood from now o...</td>\n",
              "      <td>1</td>\n",
              "    </tr>\n",
              "    <tr>\n",
              "      <th>10310</th>\n",
              "      <td>what do you do when depression succumbs the br...</td>\n",
              "      <td>1</td>\n",
              "    </tr>\n",
              "    <tr>\n",
              "      <th>10311</th>\n",
              "      <td>ketamine nasal spray shows promise against dep...</td>\n",
              "      <td>1</td>\n",
              "    </tr>\n",
              "    <tr>\n",
              "      <th>10312</th>\n",
              "      <td>dont mistake a bad day with depression everyon...</td>\n",
              "      <td>1</td>\n",
              "    </tr>\n",
              "    <tr>\n",
              "      <th>10313</th>\n",
              "      <td>0</td>\n",
              "      <td>1</td>\n",
              "    </tr>\n",
              "  </tbody>\n",
              "</table>\n",
              "<p>10314 rows × 2 columns</p>\n",
              "</div>"
            ],
            "text/plain": [
              "                                                  tweets  sentiment\n",
              "0      just had a real good moment i missssssssss him...          0\n",
              "1                   is reading manga  httpplurkcompmzp1e          0\n",
              "2      comeagainjen httptwitpiccom2y2lx  httpwwwyoutu...          0\n",
              "3      lapcat need to send em to my accountant tomorr...          0\n",
              "4               add me on myspace  myspacecomlookthunder          0\n",
              "...                                                  ...        ...\n",
              "10309  no depression by g herbo is my mood from now o...          1\n",
              "10310  what do you do when depression succumbs the br...          1\n",
              "10311  ketamine nasal spray shows promise against dep...          1\n",
              "10312  dont mistake a bad day with depression everyon...          1\n",
              "10313                                                  0          1\n",
              "\n",
              "[10314 rows x 2 columns]"
            ]
          },
          "metadata": {},
          "execution_count": 8
        }
      ]
    },
    {
      "cell_type": "code",
      "metadata": {
        "id": "55wV68EwOQR9"
      },
      "source": [
        "sentence_length = []\n",
        "from collections import Counter\n",
        "count = Counter()\n",
        "for i in dataset.tweets:\n",
        "  temp = i.split()\n",
        "  sentence_length.append(len(temp))\n",
        "  for j in temp:\n",
        "    count[j] += 1"
      ],
      "execution_count": 10,
      "outputs": []
    },
    {
      "cell_type": "code",
      "metadata": {
        "colab": {
          "base_uri": "https://localhost:8080/"
        },
        "id": "d2GVJIQIOuFA",
        "outputId": "42bed8d4-9903-4126-82af-4d651a372131"
      },
      "source": [
        "num_words = len(count)\n",
        "max_length = max(sentence_length)\n",
        "print('num_words: ',num_words,' max_length: ',max_length)"
      ],
      "execution_count": 11,
      "outputs": [
        {
          "output_type": "stream",
          "name": "stdout",
          "text": [
            "num_words:  23518  max_length:  69\n"
          ]
        }
      ]
    },
    {
      "cell_type": "code",
      "metadata": {
        "id": "1de9jVK-SEEB"
      },
      "source": [
        "train_text,test_text,train_label,test_label=train_test_split(dataset['tweets'],dataset['sentiment'],test_size=0.20,random_state=1)"
      ],
      "execution_count": 13,
      "outputs": []
    },
    {
      "cell_type": "code",
      "metadata": {
        "id": "PsbxAspvSZl2"
      },
      "source": [
        "tokenizer = Tokenizer(num_words=num_words)\n",
        "tokenizer.fit_on_texts(dataset['tweets'])\n",
        "word_index = tokenizer.word_index"
      ],
      "execution_count": 14,
      "outputs": []
    },
    {
      "cell_type": "code",
      "metadata": {
        "id": "nN8LIGbGS2yN"
      },
      "source": [
        "train_text = tokenizer.texts_to_sequences(train_text)\n",
        "test_text = tokenizer.texts_to_sequences(test_text)"
      ],
      "execution_count": 15,
      "outputs": []
    },
    {
      "cell_type": "code",
      "metadata": {
        "id": "MjtLTuvbTC62"
      },
      "source": [
        "train_padding = pad_sequences(\n",
        "    train_text, maxlen=max_length, padding='post', truncating='post'\n",
        ")\n",
        "test_padding = pad_sequences(\n",
        "    test_text, maxlen=max_length, padding='post', truncating='post'\n",
        ")"
      ],
      "execution_count": 16,
      "outputs": []
    },
    {
      "cell_type": "code",
      "metadata": {
        "colab": {
          "base_uri": "https://localhost:8080/"
        },
        "id": "w3r8kIIkTE2V",
        "outputId": "720f4653-2280-4965-f3c0-35e6de8a761c"
      },
      "source": [
        "print(len(train_padding))\n",
        "print(len(test_padding))"
      ],
      "execution_count": 17,
      "outputs": [
        {
          "output_type": "stream",
          "name": "stdout",
          "text": [
            "8251\n",
            "2063\n"
          ]
        }
      ]
    },
    {
      "cell_type": "code",
      "metadata": {
        "id": "gu_kkyuCKHFA"
      },
      "source": [
        "lr = 0.0001\n",
        "epoch_num = 5\n",
        "unit1 = 64\n",
        "unit2 = 128\n",
        "unit3 = 256\n",
        "embedding_output = 32"
      ],
      "execution_count": 18,
      "outputs": []
    },
    {
      "cell_type": "code",
      "metadata": {
        "id": "0_5JuHrcKPIW"
      },
      "source": [
        "def rnn_model():\n",
        "  model = tf.keras.Sequential([\n",
        "    tf.keras.layers.Embedding(num_words, embedding_output,input_length=max_length),\n",
        "    tf.keras.layers.SimpleRNN(unit1, return_sequences=True,activation='relu'),\n",
        "    tf.keras.layers.SimpleRNN(unit2, return_sequences=True,activation='relu'),\n",
        "    tf.keras.layers.SimpleRNN(unit3),\n",
        "    tf.keras.layers.Dense(1,activation='sigmoid'),\n",
        "  ])\n",
        "\n",
        "  model.compile(optimizer=tf.keras.optimizers.Adam(learning_rate = lr),\n",
        "                loss=tf.keras.losses.BinaryCrossentropy(),\n",
        "                metrics=['TruePositives','TrueNegatives','FalsePositives','FalseNegatives','accuracy',tf.keras.metrics.Precision(),tf.keras.metrics.Recall()])\n",
        "  return model"
      ],
      "execution_count": 19,
      "outputs": []
    },
    {
      "cell_type": "code",
      "metadata": {
        "colab": {
          "base_uri": "https://localhost:8080/"
        },
        "id": "mCDCnKeZTlZs",
        "outputId": "e6b191e1-8d5d-4941-f5f9-823161f22acd"
      },
      "source": [
        "import tensorflow as tf\n",
        "model = rnn_model()\n",
        "\n",
        "rnn_model_result = model.fit(\n",
        "     train_padding, train_label, epochs=epoch_num, verbose=2,\n",
        "     validation_data = (test_padding,test_label))"
      ],
      "execution_count": 20,
      "outputs": [
        {
          "output_type": "stream",
          "name": "stdout",
          "text": [
            "Epoch 1/5\n",
            "258/258 - 34s - loss: 0.4559 - true_positives: 510.0000 - true_negatives: 6279.0000 - false_positives: 113.0000 - false_negatives: 1349.0000 - accuracy: 0.8228 - precision: 0.8186 - recall: 0.2743 - val_loss: 0.3921 - val_true_positives: 193.0000 - val_true_negatives: 1576.0000 - val_false_positives: 32.0000 - val_false_negatives: 262.0000 - val_accuracy: 0.8575 - val_precision: 0.8578 - val_recall: 0.4242\n",
            "Epoch 2/5\n",
            "258/258 - 29s - loss: 0.1912 - true_positives: 1475.0000 - true_negatives: 6290.0000 - false_positives: 102.0000 - false_negatives: 384.0000 - accuracy: 0.9411 - precision: 0.9353 - recall: 0.7934 - val_loss: 0.0633 - val_true_positives: 435.0000 - val_true_negatives: 1607.0000 - val_false_positives: 1.0000 - val_false_negatives: 20.0000 - val_accuracy: 0.9898 - val_precision: 0.9977 - val_recall: 0.9560\n",
            "Epoch 3/5\n",
            "258/258 - 28s - loss: 0.0667 - true_positives: 1759.0000 - true_negatives: 6377.0000 - false_positives: 15.0000 - false_negatives: 100.0000 - accuracy: 0.9861 - precision: 0.9915 - recall: 0.9462 - val_loss: 0.0568 - val_true_positives: 438.0000 - val_true_negatives: 1595.0000 - val_false_positives: 13.0000 - val_false_negatives: 17.0000 - val_accuracy: 0.9855 - val_precision: 0.9712 - val_recall: 0.9626\n",
            "Epoch 4/5\n",
            "258/258 - 29s - loss: 0.0451 - true_positives: 1791.0000 - true_negatives: 6382.0000 - false_positives: 10.0000 - false_negatives: 68.0000 - accuracy: 0.9905 - precision: 0.9944 - recall: 0.9634 - val_loss: 0.0558 - val_true_positives: 434.0000 - val_true_negatives: 1603.0000 - val_false_positives: 5.0000 - val_false_negatives: 21.0000 - val_accuracy: 0.9874 - val_precision: 0.9886 - val_recall: 0.9538\n",
            "Epoch 5/5\n",
            "258/258 - 29s - loss: 0.0391 - true_positives: 1815.0000 - true_negatives: 6378.0000 - false_positives: 14.0000 - false_negatives: 44.0000 - accuracy: 0.9930 - precision: 0.9923 - recall: 0.9763 - val_loss: 0.0614 - val_true_positives: 436.0000 - val_true_negatives: 1608.0000 - val_false_positives: 0.0000e+00 - val_false_negatives: 19.0000 - val_accuracy: 0.9908 - val_precision: 1.0000 - val_recall: 0.9582\n"
          ]
        }
      ]
    },
    {
      "cell_type": "code",
      "metadata": {
        "colab": {
          "base_uri": "https://localhost:8080/"
        },
        "id": "tDPvZwO0WksF",
        "outputId": "9a94c5d6-cfe2-41e0-b5ff-dc2ae4a9834e"
      },
      "source": [
        "model.summary()"
      ],
      "execution_count": 21,
      "outputs": [
        {
          "output_type": "stream",
          "name": "stdout",
          "text": [
            "Model: \"sequential\"\n",
            "_________________________________________________________________\n",
            "Layer (type)                 Output Shape              Param #   \n",
            "=================================================================\n",
            "embedding (Embedding)        (None, 69, 32)            752576    \n",
            "_________________________________________________________________\n",
            "simple_rnn (SimpleRNN)       (None, 69, 64)            6208      \n",
            "_________________________________________________________________\n",
            "simple_rnn_1 (SimpleRNN)     (None, 69, 128)           24704     \n",
            "_________________________________________________________________\n",
            "simple_rnn_2 (SimpleRNN)     (None, 256)               98560     \n",
            "_________________________________________________________________\n",
            "dense (Dense)                (None, 1)                 257       \n",
            "=================================================================\n",
            "Total params: 882,305\n",
            "Trainable params: 882,305\n",
            "Non-trainable params: 0\n",
            "_________________________________________________________________\n"
          ]
        }
      ]
    },
    {
      "cell_type": "code",
      "metadata": {
        "colab": {
          "base_uri": "https://localhost:8080/",
          "height": 295
        },
        "id": "carH_lWiLGOp",
        "outputId": "641a4857-29ec-4216-bda9-429c9f7c7955"
      },
      "source": [
        "from matplotlib import pyplot\n",
        "pyplot.plot(rnn_model_result.history['loss'])\n",
        "pyplot.plot(rnn_model_result.history['accuracy'])\n",
        "pyplot.title('loss vs accuracy')\n",
        "pyplot.xlabel('epoch')\n",
        "pyplot.legend(['loss', 'accuracy'], loc='upper right')\n",
        "pyplot.show() \n"
      ],
      "execution_count": 22,
      "outputs": [
        {
          "output_type": "display_data",
          "data": {
            "image/png": "[encoded data removed]",
            "text/plain": [
              "<Figure size 432x288 with 1 Axes>"
            ]
          },
          "metadata": {
            "needs_background": "light"
          }
        }
      ]
    },
    {
      "cell_type": "code",
      "metadata": {
        "colab": {
          "base_uri": "https://localhost:8080/",
          "height": 315
        },
        "id": "wNGYufZJRvYN",
        "outputId": "1a551989-6bbb-4012-8ff0-b2a2dac2ccc5"
      },
      "source": [
        "import seaborn as sn\n",
        "array = [[rnn_model_result.history['true_positives'][-1],rnn_model_result.history['false_positives'][-1]],\n",
        "         [rnn_model_result.history['false_negatives'][-1],rnn_model_result.history['true_negatives'][-1]]]\n",
        "df_cm = pd.DataFrame(array, range(2), range(2))\n",
        "sn.set(font_scale=1.4) \n",
        "sn.heatmap(df_cm, annot=True, annot_kws={\"size\": 12}) \n",
        "pyplot.title('Confusion Matrix')\n",
        "pyplot.ylabel('Actual Class')\n",
        "pyplot.xlabel('Predicted Class')\n",
        "pyplot.savefig('Confusion_Matrix.png')\n",
        "pyplot.show()"
      ],
      "execution_count": 23,
      "outputs": [
        {
          "output_type": "display_data",
          "data": {
            "image/png": "[encoded data removed]",
            "text/plain": [
              "<Figure size 432x288 with 2 Axes>"
            ]
          },
          "metadata": {}
        }
      ]
    }
  ]
}